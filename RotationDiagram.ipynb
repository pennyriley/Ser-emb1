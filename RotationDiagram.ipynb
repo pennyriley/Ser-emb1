{
 "cells": [
  {
   "cell_type": "code",
   "execution_count": 478,
   "id": "0c51fa93-f6eb-4db2-a7e9-60dd39d50b31",
   "metadata": {},
   "outputs": [],
   "source": [
    "import pandas as pd\n",
    "import numpy as np\n",
    "path = \"fluxes_pb3.dat\"\n",
    "from scipy.optimize import curve_fit\n",
    "\n",
    "f2 = open(path, 'r')\n",
    "# read the whole file into a single variable, which is a list of every row of the file.\n",
    "lines = f2.readlines()\n",
    "f2.close()\n",
    "  "
   ]
  },
  {
   "cell_type": "code",
   "execution_count": 446,
   "id": "a58edd70-b9cf-4f5f-8dac-5af2ab52a4ba",
   "metadata": {
    "tags": []
   },
   "outputs": [],
   "source": [
    "Freq = []\n",
    "Eup = []\n",
    "aul = []\n",
    "gup=[]\n",
    "tmb = []\n",
    "err=[]\n",
    "\n",
    "for line in lines:\n",
    "    p = line.split()\n",
    "    Freq.append(float(p[0]))\n",
    "    Eup.append(float(p[1]))\n",
    "    aul.append(float(p[2]))\n",
    "    gup.append(float(p[3]))\n",
    "    tmb.append(float(p[4]))\n",
    "    err.append(float(p[5]))\n",
    "\n",
    "Fr = np.array(Freq)\n",
    "E = np.array(Eup)\n",
    "A = np.array(aul)\n",
    "G = np.array(gup)\n",
    "T= np.array(tmb)\n",
    "Err = np.array(err)\n",
    "    \n"
   ]
  },
  {
   "cell_type": "code",
   "execution_count": null,
   "id": "d4494424-3c97-4641-999e-400604ba4c15",
   "metadata": {},
   "outputs": [],
   "source": []
  },
  {
   "cell_type": "code",
   "execution_count": 471,
   "id": "0931686e-6153-4920-b2d5-6e78cb0d0a2e",
   "metadata": {},
   "outputs": [],
   "source": [
    "\n",
    "C = 1942.75\n",
    "\n",
    "\n",
    "\n",
    "N=[]\n",
    "for i in range(len(Fr)):\n",
    "    N.append(C*(((Fr[i])**2*T[i])/(A[i]*G[i])))\n",
    "\n",
    "\n",
    "    "
   ]
  },
  {
   "cell_type": "code",
   "execution_count": 472,
   "id": "80005634-a487-4416-b71a-d6e2891d6151",
   "metadata": {},
   "outputs": [],
   "source": [
    "Nat_l=[]\n",
    "\n",
    "for i in range(len(N)):\n",
    "    nat_l = np.log(N[i])\n",
    "    \n",
    "    Nat_l.append(nat_l)"
   ]
  },
  {
   "cell_type": "code",
   "execution_count": 477,
   "id": "3c7158da-3d45-40a2-a46d-1fe6566c00cc",
   "metadata": {},
   "outputs": [
    {
     "data": {
      "text/plain": [
       "<function matplotlib.pyplot.show(close=None, block=None)>"
      ]
     },
     "execution_count": 477,
     "metadata": {},
     "output_type": "execute_result"
    },
    {
     "data": {
      "image/png": "[encoded data removed]",
      "text/plain": [
       "<Figure size 432x288 with 1 Axes>"
      ]
     },
     "metadata": {
      "needs_background": "light"
     },
     "output_type": "display_data"
    }
   ],
   "source": [
    "plt.plot(E, Nat_l, marker= \"*\", linestyle='None')\n",
    "plt.xlabel(\"E_up [K]\")\n",
    "plt.ylabel('ln(N/g_up)')\n",
    "plt.show"
   ]
  },
  {
   "cell_type": "code",
   "execution_count": 463,
   "id": "5934142d-c4d9-40d5-bec3-2cc5eced757e",
   "metadata": {},
   "outputs": [],
   "source": [
    "N=[]\n",
    "for i in range(len(Fr)):\n",
    "    N.append(C*(((Fr[i])**2*T[i])/A[i]*G[i]))\n",
    "    "
   ]
  },
  {
   "cell_type": "code",
   "execution_count": 474,
   "id": "e5ee86b4-e3bb-4808-b6d9-0140c4b7b7ee",
   "metadata": {},
   "outputs": [
    {
     "data": {
      "text/plain": [
       "[471711719512.717,\n",
       " 802310769944.212,\n",
       " 868109636668.2064,\n",
       " 352379159635.2885,\n",
       " 549587029203.02,\n",
       " 414451289734.31384,\n",
       " 168493545180.69513,\n",
       " 421036830009.9296,\n",
       " 350754434906.76953,\n",
       " 689000333092.1371,\n",
       " 840303401849.2109,\n",
       " 708603593059.0409,\n",
       " 7319171269796.648,\n",
       " 387281526621.551,\n",
       " 690491421677.1548,\n",
       " 2083152452121.987,\n",
       " 479815343045.5487,\n",
       " 454901826858.3721,\n",
       " 293235623237.4315,\n",
       " 324837840395.5723,\n",
       " 986568589125.9862,\n",
       " 443444350553.1533,\n",
       " 482518221820.5061,\n",
       " 335659882818.05005,\n",
       " 367717755467.18744,\n",
       " 874077100283.2583,\n",
       " 718408883894.8502,\n",
       " 596536674913.8308,\n",
       " 590595485786.245,\n",
       " 338583943351.5407,\n",
       " 300122101051.5726,\n",
       " 500854981209.6024,\n",
       " 721074344145.606,\n",
       " 231149430618.0316,\n",
       " 278109743740.79065,\n",
       " 530846823645.2858,\n",
       " 382174747727.778,\n",
       " 179271108953.74283,\n",
       " 263921133201.6966,\n",
       " 278109743740.79065,\n",
       " 263429096019.59454,\n",
       " 119522021080.85104,\n",
       " 134223620039.74802,\n",
       " 128852952682.61421]"
      ]
     },
     "execution_count": 474,
     "metadata": {},
     "output_type": "execute_result"
    }
   ],
   "source": [
    "N"
   ]
  },
  {
   "cell_type": "code",
   "execution_count": 475,
   "id": "2209fa07-ace2-46b5-af4b-1e75d2187586",
   "metadata": {},
   "outputs": [
    {
     "data": {
      "text/plain": [
       "57077118061038.75"
      ]
     },
     "execution_count": 475,
     "metadata": {},
     "output_type": "execute_result"
    }
   ],
   "source": [
    "C*(((Fr[0])**2*T[0])/A[0]*G[0])"
   ]
  },
  {
   "cell_type": "code",
   "execution_count": 499,
   "id": "ec73e071-28d6-46e2-817d-29352a40bc96",
   "metadata": {},
   "outputs": [],
   "source": [
    "# define the true objective function\n",
    "def objective(E, a, b):\n",
    "    return a + E *b"
   ]
  },
  {
   "cell_type": "code",
   "execution_count": 493,
   "id": "06c64c53-d008-427c-9408-90fbfc55f842",
   "metadata": {},
   "outputs": [
    {
     "name": "stdout",
     "output_type": "stream",
     "text": [
      "y = 27.68893 * x + -0.01058\n"
     ]
    },
    {
     "data": {
      "text/plain": [
       "[<matplotlib.lines.Line2D at 0x7fc2923db4c0>]"
      ]
     },
     "execution_count": 493,
     "metadata": {},
     "output_type": "execute_result"
    },
    {
     "data": {
      "image/png": "[encoded data removed]",
      "text/plain": [
       "<Figure size 432x288 with 1 Axes>"
      ]
     },
     "metadata": {
      "needs_background": "light"
     },
     "output_type": "display_data"
    }
   ],
   "source": [
    "...\n",
    "# curve fit\n",
    "popt, _ = curve_fit(objective, E, Nat_l)\n",
    "# summarize the parameter values\n",
    "a, b = popt\n",
    "print('y = %.5f * x + %.5f' % (a, b))\n",
    "x_line = arange(min(E), max(E), 1)\n",
    "y_line = objective(x_line, a, b)\n",
    "plt.scatter(E, Nat_l)\n",
    "plt.plot(x_line, y_line, '--', color='red')"
   ]
  },
  {
   "cell_type": "code",
   "execution_count": 498,
   "id": "ff5350ba-bac1-496c-961d-1d12022d546e",
   "metadata": {},
   "outputs": [
    {
     "data": {
      "text/plain": [
       "94.48376408241373"
      ]
     },
     "execution_count": 498,
     "metadata": {},
     "output_type": "execute_result"
    }
   ],
   "source": [
    "\n",
    "T_rot = -1/b\n",
    "T_rot"
   ]
  },
  {
   "cell_type": "code",
   "execution_count": 509,
   "id": "8e5f294a-5236-40a8-945d-74fcce5dbb91",
   "metadata": {},
   "outputs": [
    {
     "data": {
      "text/plain": [
       "(27.688928252673858, -0.010583828975396737)"
      ]
     },
     "execution_count": 509,
     "metadata": {},
     "output_type": "execute_result"
    }
   ],
   "source": [
    "a, b"
   ]
  },
  {
   "cell_type": "code",
   "execution_count": null,
   "id": "799d0c6b-4906-4654-bd5d-9deeb9206e75",
   "metadata": {},
   "outputs": [],
   "source": []
  }
 ],
 "metadata": {
  "kernelspec": {
   "display_name": "Python 3",
   "language": "python",
   "name": "python3"
  },
  "language_info": {
   "codemirror_mode": {
    "name": "ipython",
    "version": 3
   },
   "file_extension": ".py",
   "mimetype": "text/x-python",
   "name": "python",
   "nbconvert_exporter": "python",
   "pygments_lexer": "ipython3",
   "version": "3.8.8"
  }
 },
 "nbformat": 4,
 "nbformat_minor": 5
}
